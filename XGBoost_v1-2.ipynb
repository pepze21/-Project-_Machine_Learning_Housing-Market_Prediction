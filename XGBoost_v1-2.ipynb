{
 "cells": [
  {
   "cell_type": "code",
   "execution_count": 1,
   "id": "cooperative-leave",
   "metadata": {},
   "outputs": [],
   "source": [
    "import seaborn as sns\n",
    "import matplotlib.pyplot as plt\n",
    "import matplotlib as mpl\n",
    "import pandas as pd\n",
    "import numpy as np\n",
    "\n",
    "from sklearn.preprocessing import LabelEncoder\n",
    "from sklearn.preprocessing import StandardScaler\n",
    "from sklearn.model_selection import train_test_split\n",
    "from sklearn.tree import DecisionTreeRegressor\n",
    "from sklearn.metrics import mean_squared_error\n",
    "from sklearn.metrics import confusion_matrix\n",
    "\n",
    "from xgboost import XGBRegressor\n",
    "\n",
    "# 한글\n",
    "import warnings\n",
    "warnings.filterwarnings('ignore')\n",
    "mpl.rcParams['axes.unicode_minus'] = False\n",
    "plt.rc('font', family='Malgun Gothic')\n",
    "\n",
    "\n",
    "\n"
   ]
  },
  {
   "cell_type": "code",
   "execution_count": 2,
   "id": "communist-baking",
   "metadata": {},
   "outputs": [],
   "source": [
    "df = pd.read_csv(\"final.csv\", index_col = 0, encoding = \"utf-8\")\n"
   ]
  },
  {
   "cell_type": "code",
   "execution_count": 3,
   "id": "cathedral-detection",
   "metadata": {},
   "outputs": [],
   "source": [
    "# pd.set_option('display.max_row',100)\n",
    "# pd.set_option('display.max_column', 100)"
   ]
  },
  {
   "cell_type": "code",
   "execution_count": 4,
   "id": "developing-cancer",
   "metadata": {},
   "outputs": [],
   "source": [
    "df.drop([\"시군구\", \"year_quarter\", \"addr_road\", \\\n",
    "         \"transaction_year_month\", \"transaction_date\", \\\n",
    "         \"서울_운영_영업_개월_평균\", \"서울_폐업_영업_개월_평균\"], \\\n",
    "        axis = 1, inplace = True)\n",
    "df[\"transaction_year\"] = df[\"date\"].str.split(\"-\").str[0].astype(int)\n",
    "df[\"transaction_month\"] = df[\"date\"].str.split(\"-\").str[1].astype(int)\n",
    "df[\"transaction_day\"] = df[\"date\"].str.split(\"-\").str[2].astype(int)\n",
    "df.drop(\"date\", axis = 1, inplace = True)\n",
    "\n",
    "encoder = LabelEncoder()\n",
    "df[\"dong_encoded\"] = encoder.fit_transform(df[\"dong\"])\n",
    "df[\"apt_encoded\"] = encoder.fit_transform(df[\"apt\"])\n",
    "df.drop([\"dong\", \"apt\"], axis = 1, inplace = True)\n",
    "\n",
    "df.rename(columns = {\n",
    "    \"exclusive_use_area\": \"전용면적\",\n",
    "    \"year_of_completion\": \"건축년도\",\n",
    "    \"floor\": \"층\",\n",
    "    \"transaction_real_price\": \"실거래가\",\n",
    "    \"transaction_year\": \"계약년도\",\n",
    "    \"transaction_month\": \"계약월\",\n",
    "    \"transaction_day\": \"계약일\",\n",
    "    \"dong_encoded\": \"법정동\",\n",
    "    \"apt_encoded\": \"아파트명\"\n",
    "}, inplace = True)\n",
    "columns = ['소비자태도', '현재생활형편', '미래생활형편', '현재경기판단', '미래경기판단', '내구재구입태도', '주택구입태도', '현재소비지출', '미래소비지출', '순자산', '고용상황', '물가예상']\n",
    "for column in columns:\n",
    "    df.rename(columns = {\n",
    "        column: column + \"지수\"\n",
    "    }, inplace = True)\n",
    "df.rename(columns = {\n",
    "    \"주택매매가격지수\": \"주택매매가격지수 전국\"\n",
    "}, inplace = True)\n",
    "df.rename(columns = {\n",
    "    \"아파트실거래가격지수_서울\": \"아파트실거래가격지수\",\n",
    "    \"아파트실거래가격지수_전국\": \"아파트실거래가격지수 전국\",\n",
    "    \"주택매매가격지수_서울_아파트\": \"주택매매가격지수\"\n",
    "}, inplace = True)\n",
    "df.rename(columns = {\n",
    "    \"시장금리(콜)\": \"시장금리\"\n",
    "}, inplace = True)\n",
    "df.reset_index(inplace = True, drop = True)"
   ]
  },
  {
   "cell_type": "code",
   "execution_count": 5,
   "id": "accompanied-reunion",
   "metadata": {},
   "outputs": [
    {
     "data": {
      "text/html": [
       "<div>\n",
       "<style scoped>\n",
       "    .dataframe tbody tr th:only-of-type {\n",
       "        vertical-align: middle;\n",
       "    }\n",
       "\n",
       "    .dataframe tbody tr th {\n",
       "        vertical-align: top;\n",
       "    }\n",
       "\n",
       "    .dataframe thead th {\n",
       "        text-align: right;\n",
       "    }\n",
       "</style>\n",
       "<table border=\"1\" class=\"dataframe\">\n",
       "  <thead>\n",
       "    <tr style=\"text-align: right;\">\n",
       "      <th></th>\n",
       "      <th>전용면적</th>\n",
       "      <th>건축년도</th>\n",
       "      <th>층</th>\n",
       "      <th>실거래가</th>\n",
       "      <th>소비자태도지수</th>\n",
       "      <th>현재생활형편지수</th>\n",
       "      <th>미래생활형편지수</th>\n",
       "      <th>현재경기판단지수</th>\n",
       "      <th>미래경기판단지수</th>\n",
       "      <th>내구재구입태도지수</th>\n",
       "      <th>...</th>\n",
       "      <th>한강 근접 여부</th>\n",
       "      <th>준공 이래 경과년수</th>\n",
       "      <th>초등학교 개수</th>\n",
       "      <th>중학교 개수</th>\n",
       "      <th>고등학교 개수</th>\n",
       "      <th>계약년도</th>\n",
       "      <th>계약월</th>\n",
       "      <th>계약일</th>\n",
       "      <th>법정동</th>\n",
       "      <th>아파트명</th>\n",
       "    </tr>\n",
       "  </thead>\n",
       "  <tbody>\n",
       "    <tr>\n",
       "      <th>0</th>\n",
       "      <td>77.75</td>\n",
       "      <td>1988</td>\n",
       "      <td>5</td>\n",
       "      <td>60000</td>\n",
       "      <td>90.6</td>\n",
       "      <td>81.0</td>\n",
       "      <td>94.9</td>\n",
       "      <td>55.6</td>\n",
       "      <td>80.0</td>\n",
       "      <td>88.0</td>\n",
       "      <td>...</td>\n",
       "      <td>0</td>\n",
       "      <td>27</td>\n",
       "      <td>6</td>\n",
       "      <td>3</td>\n",
       "      <td>4</td>\n",
       "      <td>2015</td>\n",
       "      <td>1</td>\n",
       "      <td>11</td>\n",
       "      <td>8</td>\n",
       "      <td>604</td>\n",
       "    </tr>\n",
       "    <tr>\n",
       "      <th>1</th>\n",
       "      <td>77.75</td>\n",
       "      <td>1988</td>\n",
       "      <td>5</td>\n",
       "      <td>65000</td>\n",
       "      <td>90.6</td>\n",
       "      <td>81.0</td>\n",
       "      <td>94.9</td>\n",
       "      <td>55.6</td>\n",
       "      <td>80.0</td>\n",
       "      <td>88.0</td>\n",
       "      <td>...</td>\n",
       "      <td>0</td>\n",
       "      <td>27</td>\n",
       "      <td>6</td>\n",
       "      <td>3</td>\n",
       "      <td>4</td>\n",
       "      <td>2015</td>\n",
       "      <td>3</td>\n",
       "      <td>3</td>\n",
       "      <td>8</td>\n",
       "      <td>604</td>\n",
       "    </tr>\n",
       "    <tr>\n",
       "      <th>2</th>\n",
       "      <td>77.75</td>\n",
       "      <td>1988</td>\n",
       "      <td>2</td>\n",
       "      <td>62500</td>\n",
       "      <td>90.6</td>\n",
       "      <td>81.0</td>\n",
       "      <td>94.9</td>\n",
       "      <td>55.6</td>\n",
       "      <td>80.0</td>\n",
       "      <td>88.0</td>\n",
       "      <td>...</td>\n",
       "      <td>0</td>\n",
       "      <td>27</td>\n",
       "      <td>6</td>\n",
       "      <td>3</td>\n",
       "      <td>4</td>\n",
       "      <td>2015</td>\n",
       "      <td>3</td>\n",
       "      <td>7</td>\n",
       "      <td>8</td>\n",
       "      <td>604</td>\n",
       "    </tr>\n",
       "    <tr>\n",
       "      <th>3</th>\n",
       "      <td>77.75</td>\n",
       "      <td>1988</td>\n",
       "      <td>6</td>\n",
       "      <td>68000</td>\n",
       "      <td>95.7</td>\n",
       "      <td>86.2</td>\n",
       "      <td>100.4</td>\n",
       "      <td>65.2</td>\n",
       "      <td>83.1</td>\n",
       "      <td>89.3</td>\n",
       "      <td>...</td>\n",
       "      <td>0</td>\n",
       "      <td>27</td>\n",
       "      <td>6</td>\n",
       "      <td>3</td>\n",
       "      <td>4</td>\n",
       "      <td>2015</td>\n",
       "      <td>8</td>\n",
       "      <td>16</td>\n",
       "      <td>8</td>\n",
       "      <td>604</td>\n",
       "    </tr>\n",
       "    <tr>\n",
       "      <th>4</th>\n",
       "      <td>79.97</td>\n",
       "      <td>1987</td>\n",
       "      <td>5</td>\n",
       "      <td>73000</td>\n",
       "      <td>90.6</td>\n",
       "      <td>81.0</td>\n",
       "      <td>94.9</td>\n",
       "      <td>55.6</td>\n",
       "      <td>80.0</td>\n",
       "      <td>88.0</td>\n",
       "      <td>...</td>\n",
       "      <td>0</td>\n",
       "      <td>28</td>\n",
       "      <td>6</td>\n",
       "      <td>3</td>\n",
       "      <td>4</td>\n",
       "      <td>2015</td>\n",
       "      <td>1</td>\n",
       "      <td>29</td>\n",
       "      <td>8</td>\n",
       "      <td>605</td>\n",
       "    </tr>\n",
       "    <tr>\n",
       "      <th>...</th>\n",
       "      <td>...</td>\n",
       "      <td>...</td>\n",
       "      <td>...</td>\n",
       "      <td>...</td>\n",
       "      <td>...</td>\n",
       "      <td>...</td>\n",
       "      <td>...</td>\n",
       "      <td>...</td>\n",
       "      <td>...</td>\n",
       "      <td>...</td>\n",
       "      <td>...</td>\n",
       "      <td>...</td>\n",
       "      <td>...</td>\n",
       "      <td>...</td>\n",
       "      <td>...</td>\n",
       "      <td>...</td>\n",
       "      <td>...</td>\n",
       "      <td>...</td>\n",
       "      <td>...</td>\n",
       "      <td>...</td>\n",
       "      <td>...</td>\n",
       "    </tr>\n",
       "    <tr>\n",
       "      <th>608042</th>\n",
       "      <td>59.76</td>\n",
       "      <td>1998</td>\n",
       "      <td>13</td>\n",
       "      <td>68000</td>\n",
       "      <td>92.9</td>\n",
       "      <td>76.6</td>\n",
       "      <td>95.2</td>\n",
       "      <td>56.8</td>\n",
       "      <td>86.5</td>\n",
       "      <td>81.9</td>\n",
       "      <td>...</td>\n",
       "      <td>0</td>\n",
       "      <td>23</td>\n",
       "      <td>2</td>\n",
       "      <td>2</td>\n",
       "      <td>1</td>\n",
       "      <td>2021</td>\n",
       "      <td>4</td>\n",
       "      <td>16</td>\n",
       "      <td>273</td>\n",
       "      <td>6805</td>\n",
       "    </tr>\n",
       "    <tr>\n",
       "      <th>608043</th>\n",
       "      <td>59.76</td>\n",
       "      <td>1998</td>\n",
       "      <td>15</td>\n",
       "      <td>77000</td>\n",
       "      <td>93.2</td>\n",
       "      <td>79.2</td>\n",
       "      <td>97.1</td>\n",
       "      <td>55.0</td>\n",
       "      <td>81.6</td>\n",
       "      <td>81.6</td>\n",
       "      <td>...</td>\n",
       "      <td>0</td>\n",
       "      <td>23</td>\n",
       "      <td>2</td>\n",
       "      <td>2</td>\n",
       "      <td>1</td>\n",
       "      <td>2021</td>\n",
       "      <td>7</td>\n",
       "      <td>31</td>\n",
       "      <td>273</td>\n",
       "      <td>6805</td>\n",
       "    </tr>\n",
       "    <tr>\n",
       "      <th>608044</th>\n",
       "      <td>57.66</td>\n",
       "      <td>2003</td>\n",
       "      <td>5</td>\n",
       "      <td>30500</td>\n",
       "      <td>89.0</td>\n",
       "      <td>72.9</td>\n",
       "      <td>96.0</td>\n",
       "      <td>46.6</td>\n",
       "      <td>86.5</td>\n",
       "      <td>77.6</td>\n",
       "      <td>...</td>\n",
       "      <td>0</td>\n",
       "      <td>18</td>\n",
       "      <td>2</td>\n",
       "      <td>2</td>\n",
       "      <td>1</td>\n",
       "      <td>2021</td>\n",
       "      <td>2</td>\n",
       "      <td>27</td>\n",
       "      <td>273</td>\n",
       "      <td>6881</td>\n",
       "    </tr>\n",
       "    <tr>\n",
       "      <th>608045</th>\n",
       "      <td>72.22</td>\n",
       "      <td>2003</td>\n",
       "      <td>4</td>\n",
       "      <td>49500</td>\n",
       "      <td>92.9</td>\n",
       "      <td>76.6</td>\n",
       "      <td>95.2</td>\n",
       "      <td>56.8</td>\n",
       "      <td>86.5</td>\n",
       "      <td>81.9</td>\n",
       "      <td>...</td>\n",
       "      <td>0</td>\n",
       "      <td>18</td>\n",
       "      <td>2</td>\n",
       "      <td>2</td>\n",
       "      <td>1</td>\n",
       "      <td>2021</td>\n",
       "      <td>5</td>\n",
       "      <td>4</td>\n",
       "      <td>273</td>\n",
       "      <td>6882</td>\n",
       "    </tr>\n",
       "    <tr>\n",
       "      <th>608046</th>\n",
       "      <td>58.46</td>\n",
       "      <td>2003</td>\n",
       "      <td>2</td>\n",
       "      <td>30000</td>\n",
       "      <td>93.2</td>\n",
       "      <td>79.2</td>\n",
       "      <td>97.1</td>\n",
       "      <td>55.0</td>\n",
       "      <td>81.6</td>\n",
       "      <td>81.6</td>\n",
       "      <td>...</td>\n",
       "      <td>0</td>\n",
       "      <td>18</td>\n",
       "      <td>2</td>\n",
       "      <td>2</td>\n",
       "      <td>1</td>\n",
       "      <td>2021</td>\n",
       "      <td>7</td>\n",
       "      <td>1</td>\n",
       "      <td>273</td>\n",
       "      <td>6883</td>\n",
       "    </tr>\n",
       "  </tbody>\n",
       "</table>\n",
       "<p>608047 rows × 72 columns</p>\n",
       "</div>"
      ],
      "text/plain": [
       "         전용면적  건축년도   층   실거래가  소비자태도지수  현재생활형편지수  미래생활형편지수  현재경기판단지수  \\\n",
       "0       77.75  1988   5  60000     90.6      81.0      94.9      55.6   \n",
       "1       77.75  1988   5  65000     90.6      81.0      94.9      55.6   \n",
       "2       77.75  1988   2  62500     90.6      81.0      94.9      55.6   \n",
       "3       77.75  1988   6  68000     95.7      86.2     100.4      65.2   \n",
       "4       79.97  1987   5  73000     90.6      81.0      94.9      55.6   \n",
       "...       ...   ...  ..    ...      ...       ...       ...       ...   \n",
       "608042  59.76  1998  13  68000     92.9      76.6      95.2      56.8   \n",
       "608043  59.76  1998  15  77000     93.2      79.2      97.1      55.0   \n",
       "608044  57.66  2003   5  30500     89.0      72.9      96.0      46.6   \n",
       "608045  72.22  2003   4  49500     92.9      76.6      95.2      56.8   \n",
       "608046  58.46  2003   2  30000     93.2      79.2      97.1      55.0   \n",
       "\n",
       "        미래경기판단지수  내구재구입태도지수  ...  한강 근접 여부  준공 이래 경과년수  초등학교 개수  중학교 개수  \\\n",
       "0           80.0       88.0  ...         0          27        6       3   \n",
       "1           80.0       88.0  ...         0          27        6       3   \n",
       "2           80.0       88.0  ...         0          27        6       3   \n",
       "3           83.1       89.3  ...         0          27        6       3   \n",
       "4           80.0       88.0  ...         0          28        6       3   \n",
       "...          ...        ...  ...       ...         ...      ...     ...   \n",
       "608042      86.5       81.9  ...         0          23        2       2   \n",
       "608043      81.6       81.6  ...         0          23        2       2   \n",
       "608044      86.5       77.6  ...         0          18        2       2   \n",
       "608045      86.5       81.9  ...         0          18        2       2   \n",
       "608046      81.6       81.6  ...         0          18        2       2   \n",
       "\n",
       "        고등학교 개수  계약년도  계약월  계약일  법정동  아파트명  \n",
       "0             4  2015    1   11    8   604  \n",
       "1             4  2015    3    3    8   604  \n",
       "2             4  2015    3    7    8   604  \n",
       "3             4  2015    8   16    8   604  \n",
       "4             4  2015    1   29    8   605  \n",
       "...         ...   ...  ...  ...  ...   ...  \n",
       "608042        1  2021    4   16  273  6805  \n",
       "608043        1  2021    7   31  273  6805  \n",
       "608044        1  2021    2   27  273  6881  \n",
       "608045        1  2021    5    4  273  6882  \n",
       "608046        1  2021    7    1  273  6883  \n",
       "\n",
       "[608047 rows x 72 columns]"
      ]
     },
     "execution_count": 5,
     "metadata": {},
     "output_type": "execute_result"
    }
   ],
   "source": [
    "df"
   ]
  },
  {
   "cell_type": "code",
   "execution_count": 6,
   "id": "incredible-cambodia",
   "metadata": {
    "scrolled": true
   },
   "outputs": [
    {
     "name": "stdout",
     "output_type": "stream",
     "text": [
      "Train Data :  (486437, 71) (486437,)\n",
      "Test Data :  (121610, 71) (121610,)\n"
     ]
    }
   ],
   "source": [
    "X = df[['전용면적', '건축년도', '층', '소비자태도지수', '현재생활형편지수', '미래생활형편지수',\n",
    "       '현재경기판단지수', '미래경기판단지수', '내구재구입태도지수', '주택구입태도지수', '현재소비지출지수', '미래소비지출지수',\n",
    "       '순자산지수', '고용상황지수', '물가예상지수', '코스피지수', '코스닥지수', '코스피200', '코스피50',\n",
    "       '시장금리', '주택매매가격지수 전국', '주택전세가격지수', '아파트실거래가격지수', '아파트실거래가격지수 전국',\n",
    "       '생산자물가지수', '소비자물가지수', '주택매매가격지수', '법정동별인구수', '단기 COFIX', '기준금리',\n",
    "       '총 의사 수', '의과 일반의 인원수', '의과 인턴 인원수', '의과 레지던트 인원수', '의과 전문의 인원수',\n",
    "       '치과 일반의 인원수', '치과 인턴 인원수', '치과 레지던트 인원수', '치과 전문의 인원수', '한방 일반의 인원수',\n",
    "       '한방 인턴 인원수', '한방 레지던트 인원수', '한방전문의 인원수', '병원 개수', '보건소 개수', '보건지소 개수',\n",
    "       '상급종합병원 개수', '요양병원 개수', '의원 개수', '정신병원 개수', '산부인과 개수', '종합병원 개수',\n",
    "       '치과병원 개수', '치과의원 개수', '한방병원 개수', '한의원 개수', '약국 개수', '역 개수', '공원 면적',\n",
    "       '대공원 개수', '공원 개수', '한강 근접 여부', '준공 이래 경과년수', '초등학교 개수', '중학교 개수',\n",
    "       '고등학교 개수', '계약년도', '계약월', '계약일', '법정동', '아파트명']]\n",
    "\n",
    "y = df['실거래가']\n",
    "\n",
    "X_train, X_test, y_train, y_test = train_test_split(X, y,\n",
    "                                                    test_size = 0.2,\n",
    "                                                    random_state = 0)\n",
    "\n",
    "print('Train Data : ', X_train.shape, y_train.shape)\n",
    "print('Test Data : ', X_test.shape, y_test.shape)"
   ]
  },
  {
   "cell_type": "markdown",
   "id": "pretty-encounter",
   "metadata": {},
   "source": [
    "### Modeling"
   ]
  },
  {
   "cell_type": "markdown",
   "id": "popular-contrast",
   "metadata": {},
   "source": [
    "### n_estimators = 10, learning_rate = 0.1, max_depth = 4"
   ]
  },
  {
   "cell_type": "code",
   "execution_count": null,
   "id": "painted-parker",
   "metadata": {},
   "outputs": [],
   "source": []
  },
  {
   "cell_type": "code",
   "execution_count": 19,
   "id": "developmental-property",
   "metadata": {},
   "outputs": [],
   "source": [
    "Model_apt_xgbr = XGBRegressor(n_estimators = 10,\n",
    "                              learning_rate = 0.1,\n",
    "                              max_depth = 4,\n",
    "                              )"
   ]
  },
  {
   "cell_type": "code",
   "execution_count": 20,
   "id": "weird-triangle",
   "metadata": {
    "scrolled": true
   },
   "outputs": [
    {
     "name": "stdout",
     "output_type": "stream",
     "text": [
      "CPU times: user 22.5 s, sys: 352 ms, total: 22.8 s\n",
      "Wall time: 6.17 s\n"
     ]
    },
    {
     "data": {
      "text/plain": [
       "XGBRegressor(base_score=0.5, booster='gbtree', colsample_bylevel=1,\n",
       "             colsample_bynode=1, colsample_bytree=1, gamma=0, gpu_id=-1,\n",
       "             importance_type='gain', interaction_constraints='',\n",
       "             learning_rate=0.1, max_delta_step=0, max_depth=4,\n",
       "             min_child_weight=1, missing=nan, monotone_constraints='()',\n",
       "             n_estimators=10, n_jobs=4, num_parallel_tree=1, random_state=0,\n",
       "             reg_alpha=0, reg_lambda=1, scale_pos_weight=1, subsample=1,\n",
       "             tree_method='exact', validate_parameters=1, verbosity=None)"
      ]
     },
     "execution_count": 20,
     "metadata": {},
     "output_type": "execute_result"
    }
   ],
   "source": [
    "%%time\n",
    "\n",
    "Model_apt_xgbr.fit(X_train, y_train)"
   ]
  },
  {
   "cell_type": "code",
   "execution_count": null,
   "id": "explicit-wealth",
   "metadata": {},
   "outputs": [],
   "source": [
    "# GPU 사용"
   ]
  },
  {
   "cell_type": "code",
   "execution_count": 21,
   "id": "standard-cambridge",
   "metadata": {},
   "outputs": [],
   "source": [
    "Model_apt_xgbr = XGBRegressor(n_estimators = 10,\n",
    "                              learning_rate = 0.1,\n",
    "                              max_depth = 4,\n",
    "                              tree_method='gpu_hist')"
   ]
  },
  {
   "cell_type": "code",
   "execution_count": 22,
   "id": "varying-booth",
   "metadata": {},
   "outputs": [
    {
     "name": "stdout",
     "output_type": "stream",
     "text": [
      "CPU times: user 1.22 s, sys: 228 ms, total: 1.45 s\n",
      "Wall time: 1.03 s\n"
     ]
    },
    {
     "data": {
      "text/plain": [
       "XGBRegressor(base_score=0.5, booster='gbtree', colsample_bylevel=1,\n",
       "             colsample_bynode=1, colsample_bytree=1, gamma=0, gpu_id=0,\n",
       "             importance_type='gain', interaction_constraints='',\n",
       "             learning_rate=0.1, max_delta_step=0, max_depth=4,\n",
       "             min_child_weight=1, missing=nan, monotone_constraints='()',\n",
       "             n_estimators=10, n_jobs=4, num_parallel_tree=1, random_state=0,\n",
       "             reg_alpha=0, reg_lambda=1, scale_pos_weight=1, subsample=1,\n",
       "             tree_method='gpu_hist', validate_parameters=1, verbosity=None)"
      ]
     },
     "execution_count": 22,
     "metadata": {},
     "output_type": "execute_result"
    }
   ],
   "source": [
    "%%time\n",
    "\n",
    "Model_apt_xgbr.fit(X_train, y_train)"
   ]
  },
  {
   "cell_type": "code",
   "execution_count": 12,
   "id": "national-hepatitis",
   "metadata": {},
   "outputs": [],
   "source": [
    "y_hat = Model_apt_xgbr.predict(X_test)"
   ]
  },
  {
   "cell_type": "code",
   "execution_count": 13,
   "id": "informal-chess",
   "metadata": {},
   "outputs": [
    {
     "data": {
      "text/plain": [
       "40368.97826916282"
      ]
     },
     "execution_count": 13,
     "metadata": {},
     "output_type": "execute_result"
    }
   ],
   "source": [
    "mse = mean_squared_error(y_test, y_hat)\n",
    "np.sqrt(mse)"
   ]
  },
  {
   "cell_type": "markdown",
   "id": "twenty-blackjack",
   "metadata": {},
   "source": [
    "### n_estimators = 500, learning_rate = 0.1, max_depth = 5"
   ]
  },
  {
   "cell_type": "code",
   "execution_count": 28,
   "id": "considered-fleet",
   "metadata": {},
   "outputs": [
    {
     "name": "stdout",
     "output_type": "stream",
     "text": [
      "CPU times: user 20min 13s, sys: 581 ms, total: 20min 14s\n",
      "Wall time: 5min 5s\n"
     ]
    }
   ],
   "source": [
    "%%time\n",
    "Model_apt_xgbr = XGBRegressor(n_estimators = 500,\n",
    "                              learning_rate = 0.1,\n",
    "                              max_depth = 5)\n",
    "Model_apt_xgbr.fit(X_train, y_train)\n",
    "y_hat = Model_apt_xgbr.predict(X_test)\n",
    "mse = mean_squared_error(y_test, y_hat)\n",
    "np.sqrt(mse)"
   ]
  },
  {
   "cell_type": "code",
   "execution_count": 23,
   "id": "dominant-angel",
   "metadata": {},
   "outputs": [
    {
     "data": {
      "text/plain": [
       "9697.09196887746"
      ]
     },
     "execution_count": 23,
     "metadata": {},
     "output_type": "execute_result"
    }
   ],
   "source": [
    "np.sqrt(mse)"
   ]
  },
  {
   "cell_type": "code",
   "execution_count": null,
   "id": "moved-vegetation",
   "metadata": {},
   "outputs": [],
   "source": [
    "# gpu"
   ]
  },
  {
   "cell_type": "code",
   "execution_count": 24,
   "id": "durable-imaging",
   "metadata": {},
   "outputs": [
    {
     "name": "stdout",
     "output_type": "stream",
     "text": [
      "CPU times: user 9.82 s, sys: 240 ms, total: 10.1 s\n",
      "Wall time: 8.32 s\n"
     ]
    }
   ],
   "source": [
    "%%time\n",
    "Model_apt_xgbr = XGBRegressor(n_estimators = 500,\n",
    "                              learning_rate = 0.1,\n",
    "                              max_depth = 5,\n",
    "                              tree_method='gpu_hist')\n",
    "Model_apt_xgbr.fit(X_train, y_train)\n",
    "y_hat = Model_apt_xgbr.predict(X_test)\n",
    "mse = mean_squared_error(y_test, y_hat)\n",
    "np.sqrt(mse)"
   ]
  },
  {
   "cell_type": "code",
   "execution_count": 25,
   "id": "royal-robertson",
   "metadata": {},
   "outputs": [
    {
     "data": {
      "text/plain": [
       "10000.41213004584"
      ]
     },
     "execution_count": 25,
     "metadata": {},
     "output_type": "execute_result"
    }
   ],
   "source": [
    "np.sqrt(mse)"
   ]
  },
  {
   "cell_type": "code",
   "execution_count": null,
   "id": "quiet-karma",
   "metadata": {},
   "outputs": [],
   "source": []
  },
  {
   "cell_type": "code",
   "execution_count": null,
   "id": "related-despite",
   "metadata": {},
   "outputs": [],
   "source": []
  },
  {
   "cell_type": "code",
   "execution_count": null,
   "id": "outside-economy",
   "metadata": {},
   "outputs": [],
   "source": []
  },
  {
   "cell_type": "markdown",
   "id": "indie-relationship",
   "metadata": {},
   "source": [
    "### n_estimators = 1000, learning_rate = 0.1, max_depth = 10 - 기준"
   ]
  },
  {
   "cell_type": "code",
   "execution_count": 7,
   "id": "graphic-behalf",
   "metadata": {},
   "outputs": [
    {
     "name": "stdout",
     "output_type": "stream",
     "text": [
      "CPU times: user 1min 29s, sys: 910 ms, total: 1min 30s\n",
      "Wall time: 1min 24s\n"
     ]
    }
   ],
   "source": [
    "%%time\n",
    "Model_apt_xgbr = XGBRegressor(n_estimators = 1000,\n",
    "                              learning_rate = 0.1,\n",
    "                              max_depth = 10,\n",
    "                              tree_method='gpu_hist')\n",
    "Model_apt_xgbr.fit(X_train, y_train)\n",
    "y_hat = Model_apt_xgbr.predict(X_test)\n",
    "mse = mean_squared_error(y_test, y_hat)\n",
    "np.sqrt(mse)"
   ]
  },
  {
   "cell_type": "code",
   "execution_count": 8,
   "id": "terminal-uzbekistan",
   "metadata": {
    "scrolled": true
   },
   "outputs": [
    {
     "data": {
      "text/plain": [
       "6297.502310542424"
      ]
     },
     "execution_count": 8,
     "metadata": {},
     "output_type": "execute_result"
    }
   ],
   "source": [
    "np.sqrt(mse)"
   ]
  },
  {
   "cell_type": "markdown",
   "id": "judicial-martial",
   "metadata": {},
   "source": [
    "### n_estimators = 2000, learning_rate = 0.1, max_depth = 10 (n_estimators 1000 -> 2000)"
   ]
  },
  {
   "cell_type": "code",
   "execution_count": 9,
   "id": "divine-detection",
   "metadata": {},
   "outputs": [
    {
     "name": "stdout",
     "output_type": "stream",
     "text": [
      "CPU times: user 2min 58s, sys: 944 ms, total: 2min 59s\n",
      "Wall time: 2min 45s\n"
     ]
    }
   ],
   "source": [
    "%%time\n",
    "Model_apt_xgbr = XGBRegressor(n_estimators = 2000,\n",
    "                              learning_rate = 0.1,\n",
    "                              max_depth = 10,\n",
    "                              tree_method='gpu_hist')\n",
    "Model_apt_xgbr.fit(X_train, y_train)\n",
    "y_hat = Model_apt_xgbr.predict(X_test)\n",
    "mse = mean_squared_error(y_test, y_hat)\n",
    "np.sqrt(mse)"
   ]
  },
  {
   "cell_type": "code",
   "execution_count": 10,
   "id": "infrared-whole",
   "metadata": {},
   "outputs": [
    {
     "data": {
      "text/plain": [
       "6235.519174402416"
      ]
     },
     "execution_count": 10,
     "metadata": {},
     "output_type": "execute_result"
    }
   ],
   "source": [
    "np.sqrt(mse)"
   ]
  },
  {
   "cell_type": "code",
   "execution_count": null,
   "id": "constant-purpose",
   "metadata": {},
   "outputs": [],
   "source": []
  },
  {
   "cell_type": "markdown",
   "id": "collect-anniversary",
   "metadata": {},
   "source": [
    "### n_estimators = 1000, learning_rate = 0.05, max_depth = 10 (learning_rate = 0.1 -> 0.05)"
   ]
  },
  {
   "cell_type": "code",
   "execution_count": 11,
   "id": "composed-chick",
   "metadata": {},
   "outputs": [
    {
     "name": "stdout",
     "output_type": "stream",
     "text": [
      "CPU times: user 1min 32s, sys: 43.8 ms, total: 1min 32s\n",
      "Wall time: 1min 24s\n"
     ]
    }
   ],
   "source": [
    "%%time\n",
    "Model_apt_xgbr = XGBRegressor(n_estimators = 1000,\n",
    "                              learning_rate = 0.05,\n",
    "                              max_depth = 10,\n",
    "                              tree_method='gpu_hist')\n",
    "Model_apt_xgbr.fit(X_train, y_train)\n",
    "y_hat = Model_apt_xgbr.predict(X_test)\n",
    "mse = mean_squared_error(y_test, y_hat)\n",
    "np.sqrt(mse)"
   ]
  },
  {
   "cell_type": "code",
   "execution_count": 12,
   "id": "accepting-french",
   "metadata": {},
   "outputs": [
    {
     "data": {
      "text/plain": [
       "6444.212521234677"
      ]
     },
     "execution_count": 12,
     "metadata": {},
     "output_type": "execute_result"
    }
   ],
   "source": [
    "np.sqrt(mse)"
   ]
  },
  {
   "cell_type": "markdown",
   "id": "acute-weapon",
   "metadata": {},
   "source": [
    "### n_estimators = 1000, learning_rate = 0.2, max_depth = 10 (learning_rate = 0.1 -> 0.2)"
   ]
  },
  {
   "cell_type": "code",
   "execution_count": 13,
   "id": "federal-scientist",
   "metadata": {
    "scrolled": true
   },
   "outputs": [
    {
     "name": "stdout",
     "output_type": "stream",
     "text": [
      "6459.302354734691\n",
      "CPU times: user 1min 31s, sys: 36 ms, total: 1min 31s\n",
      "Wall time: 1min 24s\n"
     ]
    }
   ],
   "source": [
    "%%time\n",
    "Model_apt_xgbr = XGBRegressor(n_estimators = 1000,\n",
    "                              learning_rate = 0.2,\n",
    "                              max_depth = 10,\n",
    "                              tree_method='gpu_hist')\n",
    "Model_apt_xgbr.fit(X_train, y_train)\n",
    "y_hat = Model_apt_xgbr.predict(X_test)\n",
    "mse = mean_squared_error(y_test, y_hat)\n",
    "print(np.sqrt(mse))"
   ]
  },
  {
   "cell_type": "code",
   "execution_count": null,
   "id": "convenient-eight",
   "metadata": {},
   "outputs": [],
   "source": []
  },
  {
   "cell_type": "markdown",
   "id": "imported-raleigh",
   "metadata": {},
   "source": [
    "### n_estimators = 500, learning_rate = 0.1, max_depth = 15 (n_estimators = 1000 -> 500, max_depth = 10 -> 15)"
   ]
  },
  {
   "cell_type": "code",
   "execution_count": 7,
   "id": "flying-judge",
   "metadata": {},
   "outputs": [
    {
     "name": "stdout",
     "output_type": "stream",
     "text": [
      "CPU times: user 7min 11s, sys: 3.51 s, total: 7min 15s\n",
      "Wall time: 7min 5s\n"
     ]
    }
   ],
   "source": [
    "%%time\n",
    "Model_apt_xgbr = XGBRegressor(n_estimators = 500,\n",
    "                              learning_rate = 0.1,\n",
    "                              max_depth = 15,\n",
    "                              tree_method='gpu_hist')\n",
    "Model_apt_xgbr.fit(X_train, y_train)\n",
    "y_hat = Model_apt_xgbr.predict(X_test)\n",
    "mse = mean_squared_error(y_test, y_hat)\n",
    "np.sqrt(mse)"
   ]
  },
  {
   "cell_type": "code",
   "execution_count": 8,
   "id": "stock-triple",
   "metadata": {},
   "outputs": [
    {
     "name": "stdout",
     "output_type": "stream",
     "text": [
      "7006.923114684135\n"
     ]
    }
   ],
   "source": [
    "print(np.sqrt(mse))"
   ]
  },
  {
   "cell_type": "markdown",
   "id": "indoor-domestic",
   "metadata": {},
   "source": [
    "### n_estimators = 2000, learning_rate = 0.1, max_depth = 15 (n_estimators = 2000, max_depth = 10 -> 15)"
   ]
  },
  {
   "cell_type": "code",
   "execution_count": null,
   "id": "broadband-calcium",
   "metadata": {},
   "outputs": [],
   "source": [
    "%%time\n",
    "Model_apt_xgbr = XGBRegressor(n_estimators = 2000,\n",
    "                              learning_rate = 0.1,\n",
    "                              max_depth = 15,\n",
    "                              tree_method='gpu_hist')\n",
    "Model_apt_xgbr.fit(X_train, y_train)\n",
    "y_hat = Model_apt_xgbr.predict(X_test)\n",
    "mse = mean_squared_error(y_test, y_hat)\n",
    "np.sqrt(mse)"
   ]
  },
  {
   "cell_type": "code",
   "execution_count": null,
   "id": "worthy-sterling",
   "metadata": {},
   "outputs": [],
   "source": []
  },
  {
   "cell_type": "code",
   "execution_count": null,
   "id": "streaming-respondent",
   "metadata": {},
   "outputs": [],
   "source": [
    "%%time\n",
    "Model_apt_xgbr = XGBRegressor(n_estimators = 1000,\n",
    "                              learning_rate = 0.1,\n",
    "                              max_depth = ,\n",
    "                              tree_method='gpu_hist')\n",
    "Model_apt_xgbr.fit(X_train, y_train)\n",
    "y_hat = Model_apt_xgbr.predict(X_test)\n",
    "mse = mean_squared_error(y_test, y_hat)\n",
    "np.sqrt(mse)"
   ]
  },
  {
   "cell_type": "code",
   "execution_count": null,
   "id": "adjacent-backup",
   "metadata": {},
   "outputs": [],
   "source": []
  },
  {
   "cell_type": "code",
   "execution_count": null,
   "id": "quick-massage",
   "metadata": {},
   "outputs": [],
   "source": []
  },
  {
   "cell_type": "code",
   "execution_count": null,
   "id": "applicable-brunei",
   "metadata": {},
   "outputs": [],
   "source": []
  },
  {
   "cell_type": "code",
   "execution_count": null,
   "id": "adjusted-oliver",
   "metadata": {},
   "outputs": [],
   "source": []
  },
  {
   "cell_type": "code",
   "execution_count": null,
   "id": "behavioral-roman",
   "metadata": {},
   "outputs": [],
   "source": []
  },
  {
   "cell_type": "code",
   "execution_count": null,
   "id": "rotary-truck",
   "metadata": {},
   "outputs": [],
   "source": []
  },
  {
   "cell_type": "code",
   "execution_count": null,
   "id": "generous-orange",
   "metadata": {},
   "outputs": [],
   "source": []
  },
  {
   "cell_type": "code",
   "execution_count": null,
   "id": "amended-prospect",
   "metadata": {},
   "outputs": [],
   "source": []
  },
  {
   "cell_type": "code",
   "execution_count": null,
   "id": "alpine-treasury",
   "metadata": {},
   "outputs": [],
   "source": []
  },
  {
   "cell_type": "code",
   "execution_count": null,
   "id": "square-champion",
   "metadata": {},
   "outputs": [],
   "source": []
  },
  {
   "cell_type": "code",
   "execution_count": null,
   "id": "turkish-albuquerque",
   "metadata": {},
   "outputs": [],
   "source": [
    "XGBRegressor(base_score=0.5, booster='gbtree', colsample_bylevel=1,\n",
    "             colsample_bynode=1, colsample_bytree=1, gamma=0, gpu_id=-1,\n",
    "             importance_type='gain', interaction_constraints='',\n",
    "             learning_rate=0.1, max_delta_step=0, max_depth=5,\n",
    "             min_child_weight=1, missing=nan, monotone_constraints='()',\n",
    "             n_estimators=50, n_jobs=12, num_parallel_tree=1, random_state=0,\n",
    "             reg_alpha=0, reg_lambda=1, scale_pos_weight=1, subsample=1,\n",
    "             tree_method='exact', validate_parameters=1, verbosity=None)"
   ]
  },
  {
   "cell_type": "code",
   "execution_count": null,
   "id": "radio-intent",
   "metadata": {},
   "outputs": [],
   "source": []
  },
  {
   "cell_type": "code",
   "execution_count": null,
   "id": "attempted-plane",
   "metadata": {},
   "outputs": [],
   "source": []
  },
  {
   "cell_type": "code",
   "execution_count": null,
   "id": "celtic-classic",
   "metadata": {},
   "outputs": [],
   "source": []
  },
  {
   "cell_type": "code",
   "execution_count": null,
   "id": "inside-presence",
   "metadata": {},
   "outputs": [],
   "source": []
  },
  {
   "cell_type": "code",
   "execution_count": null,
   "id": "conditional-blackjack",
   "metadata": {},
   "outputs": [],
   "source": []
  },
  {
   "cell_type": "code",
   "execution_count": null,
   "id": "correct-rachel",
   "metadata": {},
   "outputs": [],
   "source": []
  },
  {
   "cell_type": "code",
   "execution_count": null,
   "id": "auburn-settle",
   "metadata": {},
   "outputs": [],
   "source": []
  },
  {
   "cell_type": "code",
   "execution_count": null,
   "id": "humanitarian-gauge",
   "metadata": {},
   "outputs": [],
   "source": []
  },
  {
   "cell_type": "code",
   "execution_count": null,
   "id": "spare-signal",
   "metadata": {},
   "outputs": [],
   "source": []
  },
  {
   "cell_type": "code",
   "execution_count": null,
   "id": "political-offense",
   "metadata": {},
   "outputs": [],
   "source": []
  }
 ],
 "metadata": {
  "kernelspec": {
   "display_name": "Python 3",
   "language": "python",
   "name": "python3"
  },
  "language_info": {
   "codemirror_mode": {
    "name": "ipython",
    "version": 3
   },
   "file_extension": ".py",
   "mimetype": "text/x-python",
   "name": "python",
   "nbconvert_exporter": "python",
   "pygments_lexer": "ipython3",
   "version": "3.8.8"
  }
 },
 "nbformat": 4,
 "nbformat_minor": 5
}

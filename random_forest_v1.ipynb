{
 "cells": [
  {
   "cell_type": "code",
   "execution_count": 1,
   "id": "fifth-cargo",
   "metadata": {},
   "outputs": [],
   "source": [
    "import pandas as pd\n",
    "import numpy as np\n",
    "\n",
    "from sklearn.preprocessing import LabelEncoder\n",
    "from sklearn.preprocessing import StandardScaler\n",
    "from sklearn.model_selection import train_test_split\n",
    "from sklearn.ensemble import RandomForestRegressor\n",
    "from sklearn.metrics import mean_squared_error\n",
    "from sklearn.metrics import confusion_matrix\n",
    "\n",
    "import seaborn as sns\n",
    "import matplotlib.pyplot as plt\n",
    "import matplotlib as mpl\n",
    "\n",
    "# 한글\n",
    "import warnings\n",
    "warnings.filterwarnings('ignore')\n",
    "mpl.rcParams['axes.unicode_minus'] = False\n",
    "plt.rc('font', family='Malgun Gothic')"
   ]
  },
  {
   "cell_type": "markdown",
   "id": "subjective-georgia",
   "metadata": {},
   "source": [
    "### 전처리"
   ]
  },
  {
   "cell_type": "code",
   "execution_count": 2,
   "id": "proof-tissue",
   "metadata": {},
   "outputs": [],
   "source": [
    "df = pd.read_csv(\"final.csv\", index_col = 0, encoding = \"utf-8\")"
   ]
  },
  {
   "cell_type": "code",
   "execution_count": 3,
   "id": "constant-ontario",
   "metadata": {},
   "outputs": [],
   "source": [
    "# pd.set_option('display.max_row',100)\n",
    "# pd.set_option('display.max_column', 100)"
   ]
  },
  {
   "cell_type": "code",
   "execution_count": 4,
   "id": "least-wheel",
   "metadata": {},
   "outputs": [],
   "source": [
    "df.drop([\"시군구\", \"year_quarter\", \"addr_road\", \\\n",
    "         \"transaction_year_month\", \"transaction_date\", \\\n",
    "         \"서울_운영_영업_개월_평균\", \"서울_폐업_영업_개월_평균\"], \\\n",
    "        axis = 1, inplace = True)\n",
    "df[\"transaction_year\"] = df[\"date\"].str.split(\"-\").str[0].astype(int)\n",
    "df[\"transaction_month\"] = df[\"date\"].str.split(\"-\").str[1].astype(int)\n",
    "df[\"transaction_day\"] = df[\"date\"].str.split(\"-\").str[2].astype(int)\n",
    "df.drop(\"date\", axis = 1, inplace = True)\n",
    "\n",
    "encoder = LabelEncoder()\n",
    "df[\"dong_encoded\"] = encoder.fit_transform(df[\"dong\"])\n",
    "df[\"apt_encoded\"] = encoder.fit_transform(df[\"apt\"])\n",
    "df.drop([\"dong\", \"apt\"], axis = 1, inplace = True)\n",
    "\n",
    "df.rename(columns = {\n",
    "    \"exclusive_use_area\": \"전용면적\",\n",
    "    \"year_of_completion\": \"건축년도\",\n",
    "    \"floor\": \"층\",\n",
    "    \"transaction_real_price\": \"실거래가\",\n",
    "    \"transaction_year\": \"계약년도\",\n",
    "    \"transaction_month\": \"계약월\",\n",
    "    \"transaction_day\": \"계약일\",\n",
    "    \"dong_encoded\": \"법정동\",\n",
    "    \"apt_encoded\": \"아파트명\"\n",
    "}, inplace = True)\n",
    "columns = ['소비자태도', '현재생활형편', '미래생활형편', '현재경기판단', '미래경기판단', '내구재구입태도', '주택구입태도', '현재소비지출', '미래소비지출', '순자산', '고용상황', '물가예상']\n",
    "for column in columns:\n",
    "    df.rename(columns = {\n",
    "        column: column + \"지수\"\n",
    "    }, inplace = True)\n",
    "df.rename(columns = {\n",
    "    \"주택매매가격지수\": \"주택매매가격지수 전국\"\n",
    "}, inplace = True)\n",
    "df.rename(columns = {\n",
    "    \"아파트실거래가격지수_서울\": \"아파트실거래가격지수\",\n",
    "    \"아파트실거래가격지수_전국\": \"아파트실거래가격지수 전국\",\n",
    "    \"주택매매가격지수_서울_아파트\": \"주택매매가격지수\"\n",
    "}, inplace = True)\n",
    "df.rename(columns = {\n",
    "    \"시장금리(콜)\": \"시장금리\"\n",
    "}, inplace = True)\n",
    "df.reset_index(inplace = True, drop = True)"
   ]
  },
  {
   "cell_type": "markdown",
   "id": "revised-median",
   "metadata": {},
   "source": [
    "### Modeling"
   ]
  },
  {
   "cell_type": "code",
   "execution_count": 5,
   "id": "gentle-brother",
   "metadata": {},
   "outputs": [
    {
     "name": "stdout",
     "output_type": "stream",
     "text": [
      "Train Data :  (595886, 7) (595886,)\n",
      "Test Data :  (12161, 7) (12161,)\n"
     ]
    }
   ],
   "source": [
    "X = df[['전용면적', '건축년도',\n",
    "       '법정동별인구수',\n",
    "       '한방전문의 인원수',\n",
    "       '공원 개수', '한강 근접 여부',\n",
    "       '계약년도']]\n",
    "y = df['실거래가']\n",
    "\n",
    "X_train, X_test, y_train, y_test = train_test_split(X, y,\n",
    "                                                    test_size = 0.02,\n",
    "                                                    random_state = 0)\n",
    "\n",
    "print('Train Data : ', X_train.shape, y_train.shape)\n",
    "print('Test Data : ', X_test.shape, y_test.shape)"
   ]
  },
  {
   "cell_type": "markdown",
   "id": "bigger-stress",
   "metadata": {},
   "source": [
    "test_size=0.1<br> max_features vs %%time"
   ]
  },
  {
   "cell_type": "code",
   "execution_count": 6,
   "id": "available-consent",
   "metadata": {
    "scrolled": true
   },
   "outputs": [
    {
     "name": "stdout",
     "output_type": "stream",
     "text": [
      "7783.435979029184\n",
      "CPU times: user 1min 24s, sys: 591 ms, total: 1min 24s\n",
      "Wall time: 21.9 s\n"
     ]
    }
   ],
   "source": [
    "%%time\n",
    "X_train, X_test, y_train, y_test = train_test_split(X, y,\n",
    "                                                    test_size = 0.2,\n",
    "                                                    random_state = 0)\n",
    "Model_rfr = RandomForestRegressor(n_estimators = 50,\n",
    "                                  max_features = 7,\n",
    "                                  random_state = 0,\n",
    "                                  n_jobs = -1)\n",
    "Model_rfr.fit(X_train, y_train)\n",
    "y_hat = Model_rfr.predict(X_test)\n",
    "mse = mean_squared_error(y_test, y_hat)\n",
    "print(np.sqrt(mse))"
   ]
  },
  {
   "cell_type": "code",
   "execution_count": null,
   "id": "amateur-remains",
   "metadata": {},
   "outputs": [],
   "source": []
  },
  {
   "cell_type": "code",
   "execution_count": null,
   "id": "floating-mission",
   "metadata": {},
   "outputs": [],
   "source": []
  },
  {
   "cell_type": "code",
   "execution_count": 7,
   "id": "innocent-madrid",
   "metadata": {},
   "outputs": [
    {
     "name": "stdout",
     "output_type": "stream",
     "text": [
      "7299.937596707377\n",
      "CPU times: user 1min 25s, sys: 432 ms, total: 1min 25s\n",
      "Wall time: 22.5 s\n"
     ]
    }
   ],
   "source": [
    "%%time\n",
    "X_train, X_test, y_train, y_test = train_test_split(X, y,\n",
    "                                                    test_size = 0.1,\n",
    "                                                    random_state = 0)\n",
    "Model_rfr = RandomForestRegressor(n_estimators = 50,\n",
    "                                  max_features = 6,\n",
    "                                  random_state = 0,\n",
    "                                  n_jobs = -1)\n",
    "Model_rfr.fit(X_train, y_train)\n",
    "y_hat = Model_rfr.predict(X_test)\n",
    "mse = mean_squared_error(y_test, y_hat)\n",
    "print(np.sqrt(mse))"
   ]
  },
  {
   "cell_type": "code",
   "execution_count": 8,
   "id": "connected-benchmark",
   "metadata": {},
   "outputs": [
    {
     "name": "stdout",
     "output_type": "stream",
     "text": [
      "7295.391027853777\n",
      "CPU times: user 1min 17s, sys: 169 ms, total: 1min 17s\n",
      "Wall time: 24.9 s\n"
     ]
    }
   ],
   "source": [
    "%%time\n",
    "X_train, X_test, y_train, y_test = train_test_split(X, y,\n",
    "                                                    test_size = 0.1,\n",
    "                                                    random_state = 0)\n",
    "Model_rfr = RandomForestRegressor(n_estimators = 50,\n",
    "                                  max_features = 5,\n",
    "                                  random_state = 0,\n",
    "                                  n_jobs = -1)\n",
    "Model_rfr.fit(X_train, y_train)\n",
    "y_hat = Model_rfr.predict(X_test)\n",
    "mse = mean_squared_error(y_test, y_hat)\n",
    "print(np.sqrt(mse))"
   ]
  },
  {
   "cell_type": "code",
   "execution_count": 9,
   "id": "designed-polymer",
   "metadata": {},
   "outputs": [
    {
     "name": "stdout",
     "output_type": "stream",
     "text": [
      "7372.8966064497245\n",
      "CPU times: user 1min 6s, sys: 208 ms, total: 1min 6s\n",
      "Wall time: 21.3 s\n"
     ]
    }
   ],
   "source": [
    "%%time\n",
    "X_train, X_test, y_train, y_test = train_test_split(X, y,\n",
    "                                                    test_size = 0.1,\n",
    "                                                    random_state = 0)\n",
    "Model_rfr = RandomForestRegressor(n_estimators = 50,\n",
    "                                  max_features = 4,\n",
    "                                  random_state = 0,\n",
    "                                  n_jobs = -1)\n",
    "Model_rfr.fit(X_train, y_train)\n",
    "y_hat = Model_rfr.predict(X_test)\n",
    "mse = mean_squared_error(y_test, y_hat)\n",
    "print(np.sqrt(mse))"
   ]
  },
  {
   "cell_type": "code",
   "execution_count": 10,
   "id": "regional-valuable",
   "metadata": {},
   "outputs": [
    {
     "name": "stdout",
     "output_type": "stream",
     "text": [
      "7404.427130574988\n",
      "CPU times: user 54.9 s, sys: 99.7 ms, total: 55 s\n",
      "Wall time: 18.2 s\n"
     ]
    }
   ],
   "source": [
    "%%time\n",
    "X_train, X_test, y_train, y_test = train_test_split(X, y,\n",
    "                                                    test_size = 0.1,\n",
    "                                                    random_state = 0)\n",
    "Model_rfr = RandomForestRegressor(n_estimators = 50,\n",
    "                                  max_features = 3,\n",
    "                                  random_state = 0,\n",
    "                                  n_jobs = -1)\n",
    "Model_rfr.fit(X_train, y_train)\n",
    "y_hat = Model_rfr.predict(X_test)\n",
    "mse = mean_squared_error(y_test, y_hat)\n",
    "print(np.sqrt(mse))"
   ]
  },
  {
   "cell_type": "code",
   "execution_count": 11,
   "id": "light-nicholas",
   "metadata": {},
   "outputs": [
    {
     "name": "stdout",
     "output_type": "stream",
     "text": [
      "7533.715027144501\n",
      "CPU times: user 43.1 s, sys: 96.1 ms, total: 43.2 s\n",
      "Wall time: 13.8 s\n"
     ]
    }
   ],
   "source": [
    "%%time\n",
    "X_train, X_test, y_train, y_test = train_test_split(X, y,\n",
    "                                                    test_size = 0.1,\n",
    "                                                    random_state = 0)\n",
    "Model_rfr = RandomForestRegressor(n_estimators = 50,\n",
    "                                  max_features = 2,\n",
    "                                  random_state = 0,\n",
    "                                  n_jobs = -1)\n",
    "Model_rfr.fit(X_train, y_train)\n",
    "y_hat = Model_rfr.predict(X_test)\n",
    "mse = mean_squared_error(y_test, y_hat)\n",
    "print(np.sqrt(mse))"
   ]
  },
  {
   "cell_type": "code",
   "execution_count": 12,
   "id": "military-madonna",
   "metadata": {},
   "outputs": [
    {
     "name": "stdout",
     "output_type": "stream",
     "text": [
      "7753.407887201498\n",
      "CPU times: user 33.4 s, sys: 136 ms, total: 33.6 s\n",
      "Wall time: 10.9 s\n"
     ]
    }
   ],
   "source": [
    "%%time\n",
    "X_train, X_test, y_train, y_test = train_test_split(X, y,\n",
    "                                                    test_size = 0.1,\n",
    "                                                    random_state = 0)\n",
    "Model_rfr = RandomForestRegressor(n_estimators = 50,\n",
    "                                  max_features = 1,\n",
    "                                  random_state = 0,\n",
    "                                  n_jobs = -1)\n",
    "Model_rfr.fit(X_train, y_train)\n",
    "y_hat = Model_rfr.predict(X_test)\n",
    "mse = mean_squared_error(y_test, y_hat)\n",
    "print(np.sqrt(mse))"
   ]
  },
  {
   "cell_type": "code",
   "execution_count": null,
   "id": "minimal-polls",
   "metadata": {},
   "outputs": [],
   "source": []
  },
  {
   "cell_type": "code",
   "execution_count": 13,
   "id": "exact-worry",
   "metadata": {},
   "outputs": [],
   "source": [
    "# test_size=0.3"
   ]
  },
  {
   "cell_type": "code",
   "execution_count": 14,
   "id": "plastic-moldova",
   "metadata": {},
   "outputs": [
    {
     "name": "stdout",
     "output_type": "stream",
     "text": [
      "7997.250809947016\n",
      "CPU times: user 59.6 s, sys: 39.8 ms, total: 59.7 s\n",
      "Wall time: 17.4 s\n"
     ]
    }
   ],
   "source": [
    "%%time\n",
    "X_train, X_test, y_train, y_test = train_test_split(X, y,\n",
    "                                                    test_size = 0.3,\n",
    "                                                    random_state = 0)\n",
    "Model_rfr = RandomForestRegressor(n_estimators = 50,\n",
    "                                  max_features = 5,\n",
    "                                  random_state = 0,\n",
    "                                  n_jobs = -1)\n",
    "Model_rfr.fit(X_train, y_train)\n",
    "y_hat = Model_rfr.predict(X_test)\n",
    "mse = mean_squared_error(y_test, y_hat)\n",
    "print(np.sqrt(mse))"
   ]
  },
  {
   "cell_type": "code",
   "execution_count": 15,
   "id": "affecting-malpractice",
   "metadata": {},
   "outputs": [],
   "source": [
    "# test_size=0.05"
   ]
  },
  {
   "cell_type": "code",
   "execution_count": 16,
   "id": "solar-factor",
   "metadata": {},
   "outputs": [
    {
     "name": "stdout",
     "output_type": "stream",
     "text": [
      "7141.6782728617545\n",
      "CPU times: user 1min 22s, sys: 76.1 ms, total: 1min 22s\n",
      "Wall time: 26.6 s\n"
     ]
    }
   ],
   "source": [
    "%%time\n",
    "X_train, X_test, y_train, y_test = train_test_split(X, y,\n",
    "                                                    test_size = 0.05,\n",
    "                                                    random_state = 0)\n",
    "Model_rfr = RandomForestRegressor(n_estimators = 50,\n",
    "                                  max_features = 5,\n",
    "                                  random_state = 0,\n",
    "                                  n_jobs = -1)\n",
    "Model_rfr.fit(X_train, y_train)\n",
    "y_hat = Model_rfr.predict(X_test)\n",
    "mse = mean_squared_error(y_test, y_hat)\n",
    "print(np.sqrt(mse))"
   ]
  },
  {
   "cell_type": "code",
   "execution_count": 17,
   "id": "colonial-following",
   "metadata": {},
   "outputs": [],
   "source": [
    "# test_size=0.02"
   ]
  },
  {
   "cell_type": "code",
   "execution_count": 18,
   "id": "grand-craps",
   "metadata": {
    "scrolled": true
   },
   "outputs": [
    {
     "name": "stdout",
     "output_type": "stream",
     "text": [
      "6962.811121120585\n",
      "CPU times: user 1min 24s, sys: 24 ms, total: 1min 24s\n",
      "Wall time: 27.5 s\n"
     ]
    }
   ],
   "source": [
    "%%time\n",
    "X_train, X_test, y_train, y_test = train_test_split(X, y,\n",
    "                                                    test_size = 0.02,\n",
    "                                                    random_state = 0)\n",
    "Model_rfr = RandomForestRegressor(n_estimators = 50,\n",
    "                                  max_features = 5,\n",
    "                                  random_state = 0,\n",
    "                                  n_jobs = -1)\n",
    "Model_rfr.fit(X_train, y_train)\n",
    "y_hat = Model_rfr.predict(X_test)\n",
    "mse = mean_squared_error(y_test, y_hat)\n",
    "print(np.sqrt(mse))"
   ]
  },
  {
   "cell_type": "code",
   "execution_count": 19,
   "id": "informal-society",
   "metadata": {},
   "outputs": [],
   "source": [
    "# test_size=0.02, n_estimators = 100"
   ]
  },
  {
   "cell_type": "code",
   "execution_count": 20,
   "id": "royal-migration",
   "metadata": {},
   "outputs": [
    {
     "name": "stdout",
     "output_type": "stream",
     "text": [
      "6988.728269409988\n",
      "CPU times: user 2min 48s, sys: 624 ms, total: 2min 48s\n",
      "Wall time: 53.9 s\n"
     ]
    }
   ],
   "source": [
    "%%time\n",
    "X_train, X_test, y_train, y_test = train_test_split(X, y,\n",
    "                                                    test_size = 0.02,\n",
    "                                                    random_state = 0)\n",
    "Model_rfr = RandomForestRegressor(n_estimators = 100,\n",
    "                                  max_features = 5,\n",
    "                                  random_state = 0,\n",
    "                                  n_jobs = -1)\n",
    "Model_rfr.fit(X_train, y_train)\n",
    "y_hat = Model_rfr.predict(X_test)\n",
    "mse = mean_squared_error(y_test, y_hat)\n",
    "print(np.sqrt(mse))"
   ]
  },
  {
   "cell_type": "code",
   "execution_count": 21,
   "id": "endangered-yellow",
   "metadata": {},
   "outputs": [],
   "source": [
    "# test_size가 작아도되는지?\n",
    "# 60만개에\n",
    "# 9:1이면\n",
    "# test 6만개\n"
   ]
  },
  {
   "cell_type": "code",
   "execution_count": null,
   "id": "incorrect-comfort",
   "metadata": {},
   "outputs": [],
   "source": []
  },
  {
   "cell_type": "code",
   "execution_count": null,
   "id": "pediatric-discussion",
   "metadata": {},
   "outputs": [],
   "source": [
    "#-------------------여기까지 일단 돌려놓음"
   ]
  },
  {
   "cell_type": "code",
   "execution_count": null,
   "id": "conventional-server",
   "metadata": {},
   "outputs": [],
   "source": [
    "# !cat /proc/cpuinfo | grep 'model name'"
   ]
  },
  {
   "cell_type": "code",
   "execution_count": null,
   "id": "retired-carbon",
   "metadata": {},
   "outputs": [],
   "source": []
  }
 ],
 "metadata": {
  "kernelspec": {
   "display_name": "Python 3",
   "language": "python",
   "name": "python3"
  },
  "language_info": {
   "codemirror_mode": {
    "name": "ipython",
    "version": 3
   },
   "file_extension": ".py",
   "mimetype": "text/x-python",
   "name": "python",
   "nbconvert_exporter": "python",
   "pygments_lexer": "ipython3",
   "version": "3.6.9"
  }
 },
 "nbformat": 4,
 "nbformat_minor": 5
}
